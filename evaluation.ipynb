{
 "cells": [
  {
   "cell_type": "markdown",
   "id": "9cbfe5e2",
   "metadata": {},
   "source": [
    "# Wordle Bot Evaluation"
   ]
  },
  {
   "cell_type": "code",
   "execution_count": 3,
   "id": "6b836c7d",
   "metadata": {},
   "outputs": [],
   "source": [
    "import player\n",
    "import stats\n",
    "import random"
   ]
  },
  {
   "cell_type": "code",
   "execution_count": 4,
   "id": "229bdc58",
   "metadata": {},
   "outputs": [],
   "source": [
    "# Get list of possible solutions\n",
    "allWordsFile = 'word_lists/all-words.txt'\n",
    "solWordsFile = 'word_lists/words.txt'\n",
    "\n",
    "allWords = stats.getWordList(allWordsFile)\n",
    "solWords = stats.getWordList(solWordsFile)\n",
    "\n",
    "# Compute embedding vectors for each letter and word\n",
    "allLetters = stats.getLetterDistrubution(allWords)\n",
    "solLetters = stats.getLetterDistrubution(solWords)\n",
    "\n",
    "allWordsScores = stats.getWordScores(allWords, allLetters)\n",
    "solWordScores = stats.getWordScores(solWords, solLetters)"
   ]
  },
  {
   "cell_type": "code",
   "execution_count": 18,
   "id": "7942b2cd",
   "metadata": {},
   "outputs": [],
   "source": [
    "attemptsTotal = 0\n",
    "attemptsWins = 0\n",
    "wins = 0\n",
    "randSample = random.sample(range(len(solWords)), len(solWords))\n",
    "\n",
    "for randIndex in randSample:\n",
    "    # Grab a random solution word\n",
    "    randAnswer = solWords[randIndex]\n",
    "\n",
    "    # Have player solve wordle\n",
    "    states = []\n",
    "    guesses = []\n",
    "    for attempt in range(1, 7):\n",
    "        guess = player.computeGuess(solWordScores, attempt, guesses, states)\n",
    "\n",
    "        guesses.append(guess)\n",
    "\n",
    "        outcome = player.solve(randAnswer, guess)\n",
    "\n",
    "        states.append(outcome[\"verdict\"])\n",
    "\n",
    "        if outcome[\"win\"]:\n",
    "            wins += 1\n",
    "            attemptsWins += len(states)\n",
    "            break\n",
    "    \n",
    "    attemptsTotal += len(states)"
   ]
  },
  {
   "cell_type": "code",
   "execution_count": 19,
   "id": "a6c90a4b",
   "metadata": {},
   "outputs": [
    {
     "name": "stdout",
     "output_type": "stream",
     "text": [
      "Average Number of Attempts for All Games: 3.9490280777537796\n",
      "Average Number of Attempts for Only Winning Games: 3.8991150442477878\n",
      "Total Number of Wins: 2260\n",
      "Win Percentage: 0.9762419006479481\n"
     ]
    }
   ],
   "source": [
    "avgAttemptsTotal = attemptsTotal / len(solWords)\n",
    "avgAttemptsWins = attemptsWins / wins\n",
    "print(\"Average Number of Attempts for All Games:\", avgAttemptsTotal)\n",
    "print(\"Average Number of Attempts for Only Winning Games:\", avgAttemptsWins)\n",
    "print(\"Total Number of Wins:\", wins)\n",
    "print(\"Win Percentage:\", wins/len(solWords))"
   ]
  },
  {
   "cell_type": "code",
   "execution_count": null,
   "id": "0138c72c",
   "metadata": {},
   "outputs": [],
   "source": []
  }
 ],
 "metadata": {
  "kernelspec": {
   "display_name": "Python 3 (ipykernel)",
   "language": "python",
   "name": "python3"
  },
  "language_info": {
   "codemirror_mode": {
    "name": "ipython",
    "version": 3
   },
   "file_extension": ".py",
   "mimetype": "text/x-python",
   "name": "python",
   "nbconvert_exporter": "python",
   "pygments_lexer": "ipython3",
   "version": "3.10.1"
  }
 },
 "nbformat": 4,
 "nbformat_minor": 5
}
